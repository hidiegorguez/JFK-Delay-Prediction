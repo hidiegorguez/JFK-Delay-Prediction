{
 "cells": [
  {
   "cell_type": "markdown",
   "metadata": {},
   "source": [
    "# JFK Fligths - Delay Prediction"
   ]
  },
  {
   "cell_type": "markdown",
   "metadata": {},
   "source": [
    "## 0. Description"
   ]
  },
  {
   "cell_type": "markdown",
   "metadata": {},
   "source": [
    "The U.S. Department of Transportation's (DOT) Bureau of Transportation Statistics tracks the on-time performance of domestic flights operated by large air carriers. \n",
    "\n",
    "You have been recently hired as a Data Scientist by the DOT to help them mitigate the consequences of delayed flights. Our assignment is the development of a machine learning model that allows to predict the probability of a flight been delayed. \n",
    "\n",
    "As a first exercise, we are implementing a **model to predict whether a flight will have a delay higher than 15 minutes.** The data available contains all relevant information for flights arriving to JFK airport (NYC). This is the data that we will use to build a first pilot version of the model. If this model is proven effective, our model will be extended to incorporate all airports at a national level.  "
   ]
  },
  {
   "cell_type": "markdown",
   "metadata": {},
   "source": [
    "## 1. Libraries"
   ]
  },
  {
   "cell_type": "code",
   "execution_count": 3,
   "metadata": {},
   "outputs": [],
   "source": [
    "import numpy as np\n",
    "import pandas as pd\n",
    "\n",
    "import matplotlib.pyplot as plt\n",
    "import seaborn as sns\n",
    "\n",
    "from sklearn import preprocessing\n",
    "from sklearn import __version__ as sklearn_version"
   ]
  },
  {
   "cell_type": "code",
   "execution_count": 4,
   "metadata": {},
   "outputs": [
    {
     "name": "stdout",
     "output_type": "stream",
     "text": [
      "The scikit-learn version is 1.2.1.\n"
     ]
    }
   ],
   "source": [
    "print('The scikit-learn version is {}.'.format(sklearn_version))"
   ]
  },
  {
   "cell_type": "markdown",
   "metadata": {},
   "source": [
    "## 2. Importing data"
   ]
  },
  {
   "cell_type": "markdown",
   "metadata": {},
   "source": [
    "Before starting with our ML Checklist, the first stage is to import the data for this project (JFKFlights). This dataset is available in the official website for the US Bureau of Transportation Statistics, but we'll directly download it from a public repository in GitHub. The dataset is split in two files because of size limitations from Github. We'll have to import them independently and merge them. "
   ]
  },
  {
   "cell_type": "code",
   "execution_count": 5,
   "metadata": {},
   "outputs": [],
   "source": [
    "url1 = 'https://bit.ly/3jAxEwk'\n",
    "url2 = 'https://bit.ly/3t8qJOf'"
   ]
  },
  {
   "cell_type": "code",
   "execution_count": 6,
   "metadata": {},
   "outputs": [],
   "source": [
    "df1 = pd.read_csv(url1)\n",
    "df2 = pd.read_csv(url2)"
   ]
  },
  {
   "cell_type": "code",
   "execution_count": 8,
   "metadata": {},
   "outputs": [],
   "source": [
    "df=pd.concat([df1,df2],axis=0)"
   ]
  },
  {
   "cell_type": "markdown",
   "metadata": {},
   "source": [
    "## 3. Data understanding"
   ]
  },
  {
   "cell_type": "markdown",
   "metadata": {},
   "source": [
    "### `3.1. First impressions`"
   ]
  },
  {
   "cell_type": "code",
   "execution_count": 9,
   "metadata": {},
   "outputs": [
    {
     "data": {
      "text/html": [
       "<div>\n",
       "<style scoped>\n",
       "    .dataframe tbody tr th:only-of-type {\n",
       "        vertical-align: middle;\n",
       "    }\n",
       "\n",
       "    .dataframe tbody tr th {\n",
       "        vertical-align: top;\n",
       "    }\n",
       "\n",
       "    .dataframe thead th {\n",
       "        text-align: right;\n",
       "    }\n",
       "</style>\n",
       "<table border=\"1\" class=\"dataframe\">\n",
       "  <thead>\n",
       "    <tr style=\"text-align: right;\">\n",
       "      <th></th>\n",
       "      <th>Unnamed: 0</th>\n",
       "      <th>FL_DATE</th>\n",
       "      <th>OP_CARRIER_AIRLINE_ID</th>\n",
       "      <th>TAIL_NUM</th>\n",
       "      <th>ORIGIN</th>\n",
       "      <th>ORIGIN_CITY_NAME</th>\n",
       "      <th>ORIGIN_STATE_NM</th>\n",
       "      <th>DEST</th>\n",
       "      <th>DEST_CITY_NAME</th>\n",
       "      <th>DEST_STATE_NM</th>\n",
       "      <th>CRS_DEP_TIME</th>\n",
       "      <th>TAXI_OUT</th>\n",
       "      <th>CRS_ARR_TIME</th>\n",
       "      <th>ARR_DEL15</th>\n",
       "      <th>CRS_ELAPSED_TIME</th>\n",
       "      <th>DISTANCE</th>\n",
       "    </tr>\n",
       "  </thead>\n",
       "  <tbody>\n",
       "    <tr>\n",
       "      <th>0</th>\n",
       "      <td>0</td>\n",
       "      <td>2018-02-01</td>\n",
       "      <td>20363.0</td>\n",
       "      <td>N299PQ</td>\n",
       "      <td>BNA</td>\n",
       "      <td>Nashville, TN</td>\n",
       "      <td>Tennessee</td>\n",
       "      <td>JFK</td>\n",
       "      <td>New York, NY</td>\n",
       "      <td>New York</td>\n",
       "      <td>1359</td>\n",
       "      <td>27.0</td>\n",
       "      <td>1719</td>\n",
       "      <td>0.0</td>\n",
       "      <td>140.0</td>\n",
       "      <td>765.0</td>\n",
       "    </tr>\n",
       "    <tr>\n",
       "      <th>1</th>\n",
       "      <td>1</td>\n",
       "      <td>2018-02-01</td>\n",
       "      <td>20363.0</td>\n",
       "      <td>N920XJ</td>\n",
       "      <td>RDU</td>\n",
       "      <td>Raleigh/Durham, NC</td>\n",
       "      <td>North Carolina</td>\n",
       "      <td>JFK</td>\n",
       "      <td>New York, NY</td>\n",
       "      <td>New York</td>\n",
       "      <td>1354</td>\n",
       "      <td>37.0</td>\n",
       "      <td>1541</td>\n",
       "      <td>0.0</td>\n",
       "      <td>107.0</td>\n",
       "      <td>427.0</td>\n",
       "    </tr>\n",
       "    <tr>\n",
       "      <th>2</th>\n",
       "      <td>2</td>\n",
       "      <td>2018-02-01</td>\n",
       "      <td>20363.0</td>\n",
       "      <td>N605LR</td>\n",
       "      <td>BUF</td>\n",
       "      <td>Buffalo, NY</td>\n",
       "      <td>New York</td>\n",
       "      <td>JFK</td>\n",
       "      <td>New York, NY</td>\n",
       "      <td>New York</td>\n",
       "      <td>1529</td>\n",
       "      <td>21.0</td>\n",
       "      <td>1709</td>\n",
       "      <td>0.0</td>\n",
       "      <td>100.0</td>\n",
       "      <td>301.0</td>\n",
       "    </tr>\n",
       "    <tr>\n",
       "      <th>3</th>\n",
       "      <td>3</td>\n",
       "      <td>2018-02-01</td>\n",
       "      <td>20363.0</td>\n",
       "      <td>N800AY</td>\n",
       "      <td>ORF</td>\n",
       "      <td>Norfolk, VA</td>\n",
       "      <td>Virginia</td>\n",
       "      <td>JFK</td>\n",
       "      <td>New York, NY</td>\n",
       "      <td>New York</td>\n",
       "      <td>1704</td>\n",
       "      <td>36.0</td>\n",
       "      <td>1845</td>\n",
       "      <td>0.0</td>\n",
       "      <td>101.0</td>\n",
       "      <td>290.0</td>\n",
       "    </tr>\n",
       "    <tr>\n",
       "      <th>4</th>\n",
       "      <td>4</td>\n",
       "      <td>2018-02-01</td>\n",
       "      <td>20363.0</td>\n",
       "      <td>N600LR</td>\n",
       "      <td>BOS</td>\n",
       "      <td>Boston, MA</td>\n",
       "      <td>Massachusetts</td>\n",
       "      <td>JFK</td>\n",
       "      <td>New York, NY</td>\n",
       "      <td>New York</td>\n",
       "      <td>1325</td>\n",
       "      <td>20.0</td>\n",
       "      <td>1454</td>\n",
       "      <td>0.0</td>\n",
       "      <td>89.0</td>\n",
       "      <td>187.0</td>\n",
       "    </tr>\n",
       "  </tbody>\n",
       "</table>\n",
       "</div>"
      ],
      "text/plain": [
       "   Unnamed: 0     FL_DATE  OP_CARRIER_AIRLINE_ID TAIL_NUM ORIGIN  \\\n",
       "0           0  2018-02-01                20363.0   N299PQ    BNA   \n",
       "1           1  2018-02-01                20363.0   N920XJ    RDU   \n",
       "2           2  2018-02-01                20363.0   N605LR    BUF   \n",
       "3           3  2018-02-01                20363.0   N800AY    ORF   \n",
       "4           4  2018-02-01                20363.0   N600LR    BOS   \n",
       "\n",
       "     ORIGIN_CITY_NAME ORIGIN_STATE_NM DEST DEST_CITY_NAME DEST_STATE_NM  \\\n",
       "0       Nashville, TN       Tennessee  JFK   New York, NY      New York   \n",
       "1  Raleigh/Durham, NC  North Carolina  JFK   New York, NY      New York   \n",
       "2         Buffalo, NY        New York  JFK   New York, NY      New York   \n",
       "3         Norfolk, VA        Virginia  JFK   New York, NY      New York   \n",
       "4          Boston, MA   Massachusetts  JFK   New York, NY      New York   \n",
       "\n",
       "   CRS_DEP_TIME  TAXI_OUT  CRS_ARR_TIME  ARR_DEL15  CRS_ELAPSED_TIME  DISTANCE  \n",
       "0          1359      27.0          1719        0.0             140.0     765.0  \n",
       "1          1354      37.0          1541        0.0             107.0     427.0  \n",
       "2          1529      21.0          1709        0.0             100.0     301.0  \n",
       "3          1704      36.0          1845        0.0             101.0     290.0  \n",
       "4          1325      20.0          1454        0.0              89.0     187.0  "
      ]
     },
     "execution_count": 9,
     "metadata": {},
     "output_type": "execute_result"
    }
   ],
   "source": [
    "df.head()"
   ]
  },
  {
   "cell_type": "code",
   "execution_count": 11,
   "metadata": {},
   "outputs": [
    {
     "data": {
      "text/plain": [
       "(250152, 16)"
      ]
     },
     "execution_count": 11,
     "metadata": {},
     "output_type": "execute_result"
    }
   ],
   "source": [
    "df.shape"
   ]
  },
  {
   "cell_type": "code",
   "execution_count": 10,
   "metadata": {},
   "outputs": [
    {
     "name": "stdout",
     "output_type": "stream",
     "text": [
      "<class 'pandas.core.frame.DataFrame'>\n",
      "Int64Index: 250152 entries, 0 to 150151\n",
      "Data columns (total 16 columns):\n",
      " #   Column                 Non-Null Count   Dtype  \n",
      "---  ------                 --------------   -----  \n",
      " 0   Unnamed: 0             250152 non-null  int64  \n",
      " 1   FL_DATE                250152 non-null  object \n",
      " 2   OP_CARRIER_AIRLINE_ID  237644 non-null  float64\n",
      " 3   TAIL_NUM               235143 non-null  object \n",
      " 4   ORIGIN                 250152 non-null  object \n",
      " 5   ORIGIN_CITY_NAME       250152 non-null  object \n",
      " 6   ORIGIN_STATE_NM        250152 non-null  object \n",
      " 7   DEST                   250152 non-null  object \n",
      " 8   DEST_CITY_NAME         250152 non-null  object \n",
      " 9   DEST_STATE_NM          250152 non-null  object \n",
      " 10  CRS_DEP_TIME           250152 non-null  int64  \n",
      " 11  TAXI_OUT               232641 non-null  float64\n",
      " 12  CRS_ARR_TIME           250152 non-null  int64  \n",
      " 13  ARR_DEL15              250152 non-null  float64\n",
      " 14  CRS_ELAPSED_TIME       250152 non-null  float64\n",
      " 15  DISTANCE               250152 non-null  float64\n",
      "dtypes: float64(5), int64(3), object(8)\n",
      "memory usage: 32.4+ MB\n"
     ]
    }
   ],
   "source": [
    "df.info()"
   ]
  },
  {
   "cell_type": "code",
   "execution_count": 13,
   "metadata": {},
   "outputs": [
    {
     "data": {
      "text/html": [
       "<div>\n",
       "<style scoped>\n",
       "    .dataframe tbody tr th:only-of-type {\n",
       "        vertical-align: middle;\n",
       "    }\n",
       "\n",
       "    .dataframe tbody tr th {\n",
       "        vertical-align: top;\n",
       "    }\n",
       "\n",
       "    .dataframe thead th {\n",
       "        text-align: right;\n",
       "    }\n",
       "</style>\n",
       "<table border=\"1\" class=\"dataframe\">\n",
       "  <thead>\n",
       "    <tr style=\"text-align: right;\">\n",
       "      <th></th>\n",
       "      <th>count</th>\n",
       "      <th>mean</th>\n",
       "      <th>std</th>\n",
       "      <th>min</th>\n",
       "      <th>25%</th>\n",
       "      <th>50%</th>\n",
       "      <th>75%</th>\n",
       "      <th>max</th>\n",
       "    </tr>\n",
       "  </thead>\n",
       "  <tbody>\n",
       "    <tr>\n",
       "      <th>Unnamed: 0</th>\n",
       "      <td>250152.0</td>\n",
       "      <td>125075.500000</td>\n",
       "      <td>72212.806607</td>\n",
       "      <td>0.0</td>\n",
       "      <td>62537.75</td>\n",
       "      <td>125075.5</td>\n",
       "      <td>187613.25</td>\n",
       "      <td>250151.0</td>\n",
       "    </tr>\n",
       "    <tr>\n",
       "      <th>OP_CARRIER_AIRLINE_ID</th>\n",
       "      <td>237644.0</td>\n",
       "      <td>20152.000736</td>\n",
       "      <td>297.881929</td>\n",
       "      <td>19690.0</td>\n",
       "      <td>19790.00</td>\n",
       "      <td>20363.0</td>\n",
       "      <td>20409.00</td>\n",
       "      <td>21171.0</td>\n",
       "    </tr>\n",
       "    <tr>\n",
       "      <th>CRS_DEP_TIME</th>\n",
       "      <td>250152.0</td>\n",
       "      <td>1334.611164</td>\n",
       "      <td>529.100385</td>\n",
       "      <td>3.0</td>\n",
       "      <td>915.00</td>\n",
       "      <td>1258.0</td>\n",
       "      <td>1744.00</td>\n",
       "      <td>2359.0</td>\n",
       "    </tr>\n",
       "    <tr>\n",
       "      <th>TAXI_OUT</th>\n",
       "      <td>232641.0</td>\n",
       "      <td>18.189820</td>\n",
       "      <td>9.609596</td>\n",
       "      <td>1.0</td>\n",
       "      <td>12.00</td>\n",
       "      <td>16.0</td>\n",
       "      <td>21.00</td>\n",
       "      <td>166.0</td>\n",
       "    </tr>\n",
       "    <tr>\n",
       "      <th>CRS_ARR_TIME</th>\n",
       "      <td>250152.0</td>\n",
       "      <td>1419.131404</td>\n",
       "      <td>580.986009</td>\n",
       "      <td>1.0</td>\n",
       "      <td>944.00</td>\n",
       "      <td>1455.0</td>\n",
       "      <td>1914.00</td>\n",
       "      <td>2400.0</td>\n",
       "    </tr>\n",
       "    <tr>\n",
       "      <th>ARR_DEL15</th>\n",
       "      <td>250152.0</td>\n",
       "      <td>0.210400</td>\n",
       "      <td>0.407594</td>\n",
       "      <td>0.0</td>\n",
       "      <td>0.00</td>\n",
       "      <td>0.0</td>\n",
       "      <td>0.00</td>\n",
       "      <td>1.0</td>\n",
       "    </tr>\n",
       "    <tr>\n",
       "      <th>CRS_ELAPSED_TIME</th>\n",
       "      <td>250152.0</td>\n",
       "      <td>195.647706</td>\n",
       "      <td>97.374339</td>\n",
       "      <td>47.0</td>\n",
       "      <td>109.00</td>\n",
       "      <td>167.0</td>\n",
       "      <td>306.00</td>\n",
       "      <td>595.0</td>\n",
       "    </tr>\n",
       "    <tr>\n",
       "      <th>DISTANCE</th>\n",
       "      <td>250152.0</td>\n",
       "      <td>1258.844866</td>\n",
       "      <td>898.116163</td>\n",
       "      <td>94.0</td>\n",
       "      <td>427.00</td>\n",
       "      <td>1028.0</td>\n",
       "      <td>2248.00</td>\n",
       "      <td>4983.0</td>\n",
       "    </tr>\n",
       "  </tbody>\n",
       "</table>\n",
       "</div>"
      ],
      "text/plain": [
       "                          count           mean           std      min  \\\n",
       "Unnamed: 0             250152.0  125075.500000  72212.806607      0.0   \n",
       "OP_CARRIER_AIRLINE_ID  237644.0   20152.000736    297.881929  19690.0   \n",
       "CRS_DEP_TIME           250152.0    1334.611164    529.100385      3.0   \n",
       "TAXI_OUT               232641.0      18.189820      9.609596      1.0   \n",
       "CRS_ARR_TIME           250152.0    1419.131404    580.986009      1.0   \n",
       "ARR_DEL15              250152.0       0.210400      0.407594      0.0   \n",
       "CRS_ELAPSED_TIME       250152.0     195.647706     97.374339     47.0   \n",
       "DISTANCE               250152.0    1258.844866    898.116163     94.0   \n",
       "\n",
       "                            25%       50%        75%       max  \n",
       "Unnamed: 0             62537.75  125075.5  187613.25  250151.0  \n",
       "OP_CARRIER_AIRLINE_ID  19790.00   20363.0   20409.00   21171.0  \n",
       "CRS_DEP_TIME             915.00    1258.0    1744.00    2359.0  \n",
       "TAXI_OUT                  12.00      16.0      21.00     166.0  \n",
       "CRS_ARR_TIME             944.00    1455.0    1914.00    2400.0  \n",
       "ARR_DEL15                  0.00       0.0       0.00       1.0  \n",
       "CRS_ELAPSED_TIME         109.00     167.0     306.00     595.0  \n",
       "DISTANCE                 427.00    1028.0    2248.00    4983.0  "
      ]
     },
     "execution_count": 13,
     "metadata": {},
     "output_type": "execute_result"
    }
   ],
   "source": [
    "df.describe().T"
   ]
  },
  {
   "cell_type": "markdown",
   "metadata": {},
   "source": [
    "Here is the available information explaining each variable in the dataset:\n",
    "\n",
    "* **FL_DATE**: Date of the observation\n",
    "* **OP_CARRIER_AIRLINE_ID**: IAn identification number assigned by US DOT to identify a unique airline (carrier). A unique airline (carrier) is defined as one holding and reporting under the same DOT certificate regardless of its Code, Name, or holding company/corporation.\n",
    "* **TAIL_NUM**: Tail Number, unique identifier for the plane\n",
    "* **ORIGIN**: origin airport\n",
    "* **ORIGIN_CITY_NAME**: origin airport\n",
    "* **ORIGIN_STATE_NM**: origin state (USA)\n",
    "* **DEST**: destination airport (JFK for all registers)\n",
    "* **DEST_CITY_NAME**: destination city (NYC for all registers)\n",
    "* **DEST_STATE_NM**: destination state (NY for all registers)\n",
    "* **CRS_DEP_TIME**: scheduled departure time\n",
    "* **TAXI_OUT**: run away time (time between exit from terminal and take-off) \n",
    "* **CRS_ARR_TIME**: scheduled arrival time\n",
    "* **ARR_DEL15**: boolean (1/0) indicating if there has been more than 15 minutes delay\n",
    "* **CRS_ELAPSED_TIME**: expected flight duration\n",
    "* **DISTANCE**: distance between airports\n",
    "\n",
    "We are working on a classification problem, and our target will be the variable **ARR_DEL15**."
   ]
  },
  {
   "cell_type": "code",
   "execution_count": 17,
   "metadata": {},
   "outputs": [
    {
     "data": {
      "text/plain": [
       "Index(['unnamed: 0', 'fl_date', 'op_carrier_airline_id', 'tail_num', 'origin',\n",
       "       'origin_city_name', 'origin_state_nm', 'dest', 'dest_city_name',\n",
       "       'dest_state_nm', 'crs_dep_time', 'taxi_out', 'crs_arr_time',\n",
       "       'arr_del15', 'crs_elapsed_time', 'distance'],\n",
       "      dtype='object')"
      ]
     },
     "execution_count": 17,
     "metadata": {},
     "output_type": "execute_result"
    }
   ],
   "source": [
    "df.columns=df.columns.str.lower()\n",
    "df.columns"
   ]
  },
  {
   "cell_type": "code",
   "execution_count": 19,
   "metadata": {},
   "outputs": [],
   "source": [
    "target=\"arr_del15\""
   ]
  },
  {
   "cell_type": "markdown",
   "metadata": {},
   "source": [
    "### `3.2. Feature variety`"
   ]
  },
  {
   "cell_type": "markdown",
   "metadata": {},
   "source": [
    "We have observed there are both numerical and categorical features."
   ]
  },
  {
   "cell_type": "code",
   "execution_count": 20,
   "metadata": {},
   "outputs": [
    {
     "data": {
      "text/html": [
       "<div>\n",
       "<style scoped>\n",
       "    .dataframe tbody tr th:only-of-type {\n",
       "        vertical-align: middle;\n",
       "    }\n",
       "\n",
       "    .dataframe tbody tr th {\n",
       "        vertical-align: top;\n",
       "    }\n",
       "\n",
       "    .dataframe thead th {\n",
       "        text-align: right;\n",
       "    }\n",
       "</style>\n",
       "<table border=\"1\" class=\"dataframe\">\n",
       "  <thead>\n",
       "    <tr style=\"text-align: right;\">\n",
       "      <th></th>\n",
       "      <th>count</th>\n",
       "      <th>unique</th>\n",
       "      <th>top</th>\n",
       "      <th>freq</th>\n",
       "    </tr>\n",
       "  </thead>\n",
       "  <tbody>\n",
       "    <tr>\n",
       "      <th>fl_date</th>\n",
       "      <td>250152</td>\n",
       "      <td>730</td>\n",
       "      <td>2018-07-19</td>\n",
       "      <td>394</td>\n",
       "    </tr>\n",
       "    <tr>\n",
       "      <th>tail_num</th>\n",
       "      <td>235143</td>\n",
       "      <td>2645</td>\n",
       "      <td>N110AN</td>\n",
       "      <td>761</td>\n",
       "    </tr>\n",
       "    <tr>\n",
       "      <th>origin</th>\n",
       "      <td>250152</td>\n",
       "      <td>72</td>\n",
       "      <td>LAX</td>\n",
       "      <td>25345</td>\n",
       "    </tr>\n",
       "    <tr>\n",
       "      <th>origin_city_name</th>\n",
       "      <td>250152</td>\n",
       "      <td>70</td>\n",
       "      <td>Los Angeles, CA</td>\n",
       "      <td>25345</td>\n",
       "    </tr>\n",
       "    <tr>\n",
       "      <th>origin_state_nm</th>\n",
       "      <td>250152</td>\n",
       "      <td>32</td>\n",
       "      <td>California</td>\n",
       "      <td>51137</td>\n",
       "    </tr>\n",
       "    <tr>\n",
       "      <th>dest</th>\n",
       "      <td>250152</td>\n",
       "      <td>1</td>\n",
       "      <td>JFK</td>\n",
       "      <td>250152</td>\n",
       "    </tr>\n",
       "    <tr>\n",
       "      <th>dest_city_name</th>\n",
       "      <td>250152</td>\n",
       "      <td>1</td>\n",
       "      <td>New York, NY</td>\n",
       "      <td>250152</td>\n",
       "    </tr>\n",
       "    <tr>\n",
       "      <th>dest_state_nm</th>\n",
       "      <td>250152</td>\n",
       "      <td>1</td>\n",
       "      <td>New York</td>\n",
       "      <td>250152</td>\n",
       "    </tr>\n",
       "  </tbody>\n",
       "</table>\n",
       "</div>"
      ],
      "text/plain": [
       "                   count unique              top    freq\n",
       "fl_date           250152    730       2018-07-19     394\n",
       "tail_num          235143   2645           N110AN     761\n",
       "origin            250152     72              LAX   25345\n",
       "origin_city_name  250152     70  Los Angeles, CA   25345\n",
       "origin_state_nm   250152     32       California   51137\n",
       "dest              250152      1              JFK  250152\n",
       "dest_city_name    250152      1     New York, NY  250152\n",
       "dest_state_nm     250152      1         New York  250152"
      ]
     },
     "execution_count": 20,
     "metadata": {},
     "output_type": "execute_result"
    }
   ],
   "source": [
    "df.select_dtypes(include=['object']).describe().T"
   ]
  },
  {
   "cell_type": "markdown",
   "metadata": {},
   "source": [
    "Knowing there is always the same destiny (JFK Airport, New York) we are going to remove the columns related to it."
   ]
  },
  {
   "cell_type": "code",
   "execution_count": 21,
   "metadata": {},
   "outputs": [
    {
     "data": {
      "text/html": [
       "<div>\n",
       "<style scoped>\n",
       "    .dataframe tbody tr th:only-of-type {\n",
       "        vertical-align: middle;\n",
       "    }\n",
       "\n",
       "    .dataframe tbody tr th {\n",
       "        vertical-align: top;\n",
       "    }\n",
       "\n",
       "    .dataframe thead th {\n",
       "        text-align: right;\n",
       "    }\n",
       "</style>\n",
       "<table border=\"1\" class=\"dataframe\">\n",
       "  <thead>\n",
       "    <tr style=\"text-align: right;\">\n",
       "      <th></th>\n",
       "      <th>count</th>\n",
       "      <th>unique</th>\n",
       "      <th>top</th>\n",
       "      <th>freq</th>\n",
       "    </tr>\n",
       "  </thead>\n",
       "  <tbody>\n",
       "    <tr>\n",
       "      <th>fl_date</th>\n",
       "      <td>250152</td>\n",
       "      <td>730</td>\n",
       "      <td>2018-07-19</td>\n",
       "      <td>394</td>\n",
       "    </tr>\n",
       "    <tr>\n",
       "      <th>tail_num</th>\n",
       "      <td>235143</td>\n",
       "      <td>2645</td>\n",
       "      <td>N110AN</td>\n",
       "      <td>761</td>\n",
       "    </tr>\n",
       "    <tr>\n",
       "      <th>origin</th>\n",
       "      <td>250152</td>\n",
       "      <td>72</td>\n",
       "      <td>LAX</td>\n",
       "      <td>25345</td>\n",
       "    </tr>\n",
       "    <tr>\n",
       "      <th>origin_city_name</th>\n",
       "      <td>250152</td>\n",
       "      <td>70</td>\n",
       "      <td>Los Angeles, CA</td>\n",
       "      <td>25345</td>\n",
       "    </tr>\n",
       "    <tr>\n",
       "      <th>origin_state_nm</th>\n",
       "      <td>250152</td>\n",
       "      <td>32</td>\n",
       "      <td>California</td>\n",
       "      <td>51137</td>\n",
       "    </tr>\n",
       "  </tbody>\n",
       "</table>\n",
       "</div>"
      ],
      "text/plain": [
       "                   count unique              top   freq\n",
       "fl_date           250152    730       2018-07-19    394\n",
       "tail_num          235143   2645           N110AN    761\n",
       "origin            250152     72              LAX  25345\n",
       "origin_city_name  250152     70  Los Angeles, CA  25345\n",
       "origin_state_nm   250152     32       California  51137"
      ]
     },
     "execution_count": 21,
     "metadata": {},
     "output_type": "execute_result"
    }
   ],
   "source": [
    "df.drop(columns=[\"dest\",\"dest_city_name\",\"dest_state_nm\"],inplace=True)\n",
    "df.select_dtypes(include=['object']).describe().T"
   ]
  },
  {
   "cell_type": "code",
   "execution_count": 22,
   "metadata": {},
   "outputs": [
    {
     "data": {
      "text/html": [
       "<div>\n",
       "<style scoped>\n",
       "    .dataframe tbody tr th:only-of-type {\n",
       "        vertical-align: middle;\n",
       "    }\n",
       "\n",
       "    .dataframe tbody tr th {\n",
       "        vertical-align: top;\n",
       "    }\n",
       "\n",
       "    .dataframe thead th {\n",
       "        text-align: right;\n",
       "    }\n",
       "</style>\n",
       "<table border=\"1\" class=\"dataframe\">\n",
       "  <thead>\n",
       "    <tr style=\"text-align: right;\">\n",
       "      <th></th>\n",
       "      <th>count</th>\n",
       "      <th>mean</th>\n",
       "      <th>std</th>\n",
       "      <th>min</th>\n",
       "      <th>25%</th>\n",
       "      <th>50%</th>\n",
       "      <th>75%</th>\n",
       "      <th>max</th>\n",
       "    </tr>\n",
       "  </thead>\n",
       "  <tbody>\n",
       "    <tr>\n",
       "      <th>unnamed: 0</th>\n",
       "      <td>250152.0</td>\n",
       "      <td>125075.500000</td>\n",
       "      <td>72212.806607</td>\n",
       "      <td>0.0</td>\n",
       "      <td>62537.75</td>\n",
       "      <td>125075.5</td>\n",
       "      <td>187613.25</td>\n",
       "      <td>250151.0</td>\n",
       "    </tr>\n",
       "    <tr>\n",
       "      <th>op_carrier_airline_id</th>\n",
       "      <td>237644.0</td>\n",
       "      <td>20152.000736</td>\n",
       "      <td>297.881929</td>\n",
       "      <td>19690.0</td>\n",
       "      <td>19790.00</td>\n",
       "      <td>20363.0</td>\n",
       "      <td>20409.00</td>\n",
       "      <td>21171.0</td>\n",
       "    </tr>\n",
       "    <tr>\n",
       "      <th>crs_dep_time</th>\n",
       "      <td>250152.0</td>\n",
       "      <td>1334.611164</td>\n",
       "      <td>529.100385</td>\n",
       "      <td>3.0</td>\n",
       "      <td>915.00</td>\n",
       "      <td>1258.0</td>\n",
       "      <td>1744.00</td>\n",
       "      <td>2359.0</td>\n",
       "    </tr>\n",
       "    <tr>\n",
       "      <th>taxi_out</th>\n",
       "      <td>232641.0</td>\n",
       "      <td>18.189820</td>\n",
       "      <td>9.609596</td>\n",
       "      <td>1.0</td>\n",
       "      <td>12.00</td>\n",
       "      <td>16.0</td>\n",
       "      <td>21.00</td>\n",
       "      <td>166.0</td>\n",
       "    </tr>\n",
       "    <tr>\n",
       "      <th>crs_arr_time</th>\n",
       "      <td>250152.0</td>\n",
       "      <td>1419.131404</td>\n",
       "      <td>580.986009</td>\n",
       "      <td>1.0</td>\n",
       "      <td>944.00</td>\n",
       "      <td>1455.0</td>\n",
       "      <td>1914.00</td>\n",
       "      <td>2400.0</td>\n",
       "    </tr>\n",
       "    <tr>\n",
       "      <th>arr_del15</th>\n",
       "      <td>250152.0</td>\n",
       "      <td>0.210400</td>\n",
       "      <td>0.407594</td>\n",
       "      <td>0.0</td>\n",
       "      <td>0.00</td>\n",
       "      <td>0.0</td>\n",
       "      <td>0.00</td>\n",
       "      <td>1.0</td>\n",
       "    </tr>\n",
       "    <tr>\n",
       "      <th>crs_elapsed_time</th>\n",
       "      <td>250152.0</td>\n",
       "      <td>195.647706</td>\n",
       "      <td>97.374339</td>\n",
       "      <td>47.0</td>\n",
       "      <td>109.00</td>\n",
       "      <td>167.0</td>\n",
       "      <td>306.00</td>\n",
       "      <td>595.0</td>\n",
       "    </tr>\n",
       "    <tr>\n",
       "      <th>distance</th>\n",
       "      <td>250152.0</td>\n",
       "      <td>1258.844866</td>\n",
       "      <td>898.116163</td>\n",
       "      <td>94.0</td>\n",
       "      <td>427.00</td>\n",
       "      <td>1028.0</td>\n",
       "      <td>2248.00</td>\n",
       "      <td>4983.0</td>\n",
       "    </tr>\n",
       "  </tbody>\n",
       "</table>\n",
       "</div>"
      ],
      "text/plain": [
       "                          count           mean           std      min  \\\n",
       "unnamed: 0             250152.0  125075.500000  72212.806607      0.0   \n",
       "op_carrier_airline_id  237644.0   20152.000736    297.881929  19690.0   \n",
       "crs_dep_time           250152.0    1334.611164    529.100385      3.0   \n",
       "taxi_out               232641.0      18.189820      9.609596      1.0   \n",
       "crs_arr_time           250152.0    1419.131404    580.986009      1.0   \n",
       "arr_del15              250152.0       0.210400      0.407594      0.0   \n",
       "crs_elapsed_time       250152.0     195.647706     97.374339     47.0   \n",
       "distance               250152.0    1258.844866    898.116163     94.0   \n",
       "\n",
       "                            25%       50%        75%       max  \n",
       "unnamed: 0             62537.75  125075.5  187613.25  250151.0  \n",
       "op_carrier_airline_id  19790.00   20363.0   20409.00   21171.0  \n",
       "crs_dep_time             915.00    1258.0    1744.00    2359.0  \n",
       "taxi_out                  12.00      16.0      21.00     166.0  \n",
       "crs_arr_time             944.00    1455.0    1914.00    2400.0  \n",
       "arr_del15                  0.00       0.0       0.00       1.0  \n",
       "crs_elapsed_time         109.00     167.0     306.00     595.0  \n",
       "distance                 427.00    1028.0    2248.00    4983.0  "
      ]
     },
     "execution_count": 22,
     "metadata": {},
     "output_type": "execute_result"
    }
   ],
   "source": [
    "df.describe().T"
   ]
  },
  {
   "cell_type": "markdown",
   "metadata": {},
   "source": [
    "Let's see how balanced the problem is"
   ]
  },
  {
   "cell_type": "code",
   "execution_count": 27,
   "metadata": {},
   "outputs": [
    {
     "data": {
      "text/plain": [
       "<Axes: >"
      ]
     },
     "execution_count": 27,
     "metadata": {},
     "output_type": "execute_result"
    },
    {
     "data": {
      "image/png": "[encoded data removed]",
      "text/plain": [
       "<Figure size 640x480 with 1 Axes>"
      ]
     },
     "metadata": {},
     "output_type": "display_data"
    }
   ],
   "source": [
    "df[target].value_counts(normalize=True).plot(kind=\"bar\")"
   ]
  },
  {
   "cell_type": "markdown",
   "metadata": {},
   "source": [
    "Even though the delayed flighs are the 20% aproximately, we can consider the problem as a balanced one."
   ]
  },
  {
   "cell_type": "markdown",
   "metadata": {},
   "source": [
    "### `3.3. Nulls`"
   ]
  },
  {
   "cell_type": "code",
   "execution_count": 29,
   "metadata": {},
   "outputs": [
    {
     "data": {
      "text/plain": [
       "unnamed: 0                   0\n",
       "fl_date                      0\n",
       "op_carrier_airline_id    12508\n",
       "tail_num                 15009\n",
       "origin                       0\n",
       "origin_city_name             0\n",
       "origin_state_nm              0\n",
       "crs_dep_time                 0\n",
       "taxi_out                 17511\n",
       "crs_arr_time                 0\n",
       "arr_del15                    0\n",
       "crs_elapsed_time             0\n",
       "distance                     0\n",
       "dtype: int64"
      ]
     },
     "execution_count": 29,
     "metadata": {},
     "output_type": "execute_result"
    }
   ],
   "source": [
    "df.isna().sum()"
   ]
  },
  {
   "cell_type": "markdown",
   "metadata": {},
   "source": [
    "#### 3.3.1. op_carrier_airline_id"
   ]
  },
  {
   "cell_type": "markdown",
   "metadata": {},
   "source": [
    "* **OP_CARRIER_AIRLINE_ID**: IAn identification number assigned by US DOT to identify a unique airline (carrier). A unique airline (carrier) is defined as one holding and reporting under the same DOT certificate regardless of its Code, Name, or holding company/corporation."
   ]
  },
  {
   "cell_type": "code",
   "execution_count": 31,
   "metadata": {},
   "outputs": [
    {
     "data": {
      "text/plain": [
       "20409.0    78587\n",
       "19790.0    58894\n",
       "20363.0    40833\n",
       "19805.0    30694\n",
       "NaN        12508\n",
       "20398.0     8814\n",
       "19930.0     8591\n",
       "20452.0     5044\n",
       "20304.0     3993\n",
       "21171.0      944\n",
       "19690.0      695\n",
       "20397.0      555\n",
       "Name: op_carrier_airline_id, dtype: int64"
      ]
     },
     "execution_count": 31,
     "metadata": {},
     "output_type": "execute_result"
    }
   ],
   "source": [
    "df.op_carrier_airline_id.value_counts(dropna=False)"
   ]
  },
  {
   "cell_type": "markdown",
   "metadata": {},
   "source": [
    "We can not manage to study the feature much deeper because it is an id. A solution may be changing the nulls into whatever in order to do later the encoding."
   ]
  },
  {
   "cell_type": "code",
   "execution_count": 32,
   "metadata": {},
   "outputs": [
    {
     "data": {
      "text/plain": [
       "unnamed: 0                   0\n",
       "fl_date                      0\n",
       "op_carrier_airline_id        0\n",
       "tail_num                 15009\n",
       "origin                       0\n",
       "origin_city_name             0\n",
       "origin_state_nm              0\n",
       "crs_dep_time                 0\n",
       "taxi_out                 17511\n",
       "crs_arr_time                 0\n",
       "arr_del15                    0\n",
       "crs_elapsed_time             0\n",
       "distance                     0\n",
       "dtype: int64"
      ]
     },
     "execution_count": 32,
     "metadata": {},
     "output_type": "execute_result"
    }
   ],
   "source": [
    "df.op_carrier_airline_id.fillna(\"NaN\",inplace=True)\n",
    "df.isna().sum()"
   ]
  },
  {
   "cell_type": "markdown",
   "metadata": {},
   "source": [
    "#### 3.3.2. tail_num"
   ]
  },
  {
   "cell_type": "markdown",
   "metadata": {},
   "source": [
    "* **TAIL_NUM**: Tail Number, unique identifier for the plane"
   ]
  },
  {
   "cell_type": "code",
   "execution_count": 33,
   "metadata": {},
   "outputs": [
    {
     "data": {
      "text/plain": [
       "NaN       15009\n",
       "N110AN      761\n",
       "N113AN      751\n",
       "N111ZM      748\n",
       "N115NN      740\n",
       "          ...  \n",
       "N197UW        1\n",
       "N986AN        1\n",
       "N315RJ        1\n",
       "N801AW        1\n",
       "N945DN        1\n",
       "Name: tail_num, Length: 2646, dtype: int64"
      ]
     },
     "execution_count": 33,
     "metadata": {},
     "output_type": "execute_result"
    }
   ],
   "source": [
    "df.tail_num.value_counts(dropna=False)"
   ]
  },
  {
   "cell_type": "markdown",
   "metadata": {},
   "source": [
    "Same as before"
   ]
  },
  {
   "cell_type": "code",
   "execution_count": 34,
   "metadata": {},
   "outputs": [
    {
     "data": {
      "text/plain": [
       "unnamed: 0                   0\n",
       "fl_date                      0\n",
       "op_carrier_airline_id        0\n",
       "tail_num                     0\n",
       "origin                       0\n",
       "origin_city_name             0\n",
       "origin_state_nm              0\n",
       "crs_dep_time                 0\n",
       "taxi_out                 17511\n",
       "crs_arr_time                 0\n",
       "arr_del15                    0\n",
       "crs_elapsed_time             0\n",
       "distance                     0\n",
       "dtype: int64"
      ]
     },
     "execution_count": 34,
     "metadata": {},
     "output_type": "execute_result"
    }
   ],
   "source": [
    "df.tail_num.fillna(\"NaN\",inplace=True)\n",
    "df.isna().sum()"
   ]
  },
  {
   "cell_type": "markdown",
   "metadata": {},
   "source": [
    "#### 3.3.3. taxi_out"
   ]
  },
  {
   "cell_type": "markdown",
   "metadata": {},
   "source": [
    "* **TAXI_OUT**: run away time (time between exit from terminal and take-off) "
   ]
  },
  {
   "cell_type": "code",
   "execution_count": 35,
   "metadata": {},
   "outputs": [
    {
     "data": {
      "text/plain": [
       "13.0     18840\n",
       "12.0     18344\n",
       "14.0     18119\n",
       "NaN      17511\n",
       "15.0     16614\n",
       "         ...  \n",
       "146.0        1\n",
       "161.0        1\n",
       "159.0        1\n",
       "140.0        1\n",
       "156.0        1\n",
       "Name: taxi_out, Length: 155, dtype: int64"
      ]
     },
     "execution_count": 35,
     "metadata": {},
     "output_type": "execute_result"
    }
   ],
   "source": [
    "df.taxi_out.value_counts(dropna=False)"
   ]
  },
  {
   "cell_type": "markdown",
   "metadata": {},
   "source": [
    "Let's replace them with the value -1."
   ]
  },
  {
   "cell_type": "code",
   "execution_count": 36,
   "metadata": {},
   "outputs": [
    {
     "data": {
      "text/plain": [
       "unnamed: 0               0\n",
       "fl_date                  0\n",
       "op_carrier_airline_id    0\n",
       "tail_num                 0\n",
       "origin                   0\n",
       "origin_city_name         0\n",
       "origin_state_nm          0\n",
       "crs_dep_time             0\n",
       "taxi_out                 0\n",
       "crs_arr_time             0\n",
       "arr_del15                0\n",
       "crs_elapsed_time         0\n",
       "distance                 0\n",
       "dtype: int64"
      ]
     },
     "execution_count": 36,
     "metadata": {},
     "output_type": "execute_result"
    }
   ],
   "source": [
    "df.taxi_out.fillna(-1,inplace=True)\n",
    "df.isna().sum()"
   ]
  },
  {
   "cell_type": "markdown",
   "metadata": {},
   "source": [
    "### `3.4. More data cleaning`"
   ]
  },
  {
   "cell_type": "code",
   "execution_count": 39,
   "metadata": {},
   "outputs": [
    {
     "data": {
      "text/plain": [
       "0         1\n",
       "166758    1\n",
       "166760    1\n",
       "166761    1\n",
       "166762    1\n",
       "         ..\n",
       "83388     1\n",
       "83389     1\n",
       "83390     1\n",
       "83391     1\n",
       "250151    1\n",
       "Name: unnamed: 0, Length: 250152, dtype: int64"
      ]
     },
     "execution_count": 39,
     "metadata": {},
     "output_type": "execute_result"
    }
   ],
   "source": [
    "df['unnamed: 0'].value_counts(dropna=False)"
   ]
  },
  {
   "cell_type": "markdown",
   "metadata": {},
   "source": [
    "We can consider this feature as an id, so we can remove it aswell"
   ]
  },
  {
   "cell_type": "code",
   "execution_count": 40,
   "metadata": {},
   "outputs": [],
   "source": [
    "df.drop(columns=[\"unnamed: 0\"],inplace=True)"
   ]
  }
 ],
 "metadata": {
  "kernelspec": {
   "display_name": "base",
   "language": "python",
   "name": "python3"
  },
  "language_info": {
   "codemirror_mode": {
    "name": "ipython",
    "version": 3
   },
   "file_extension": ".py",
   "mimetype": "text/x-python",
   "name": "python",
   "nbconvert_exporter": "python",
   "pygments_lexer": "ipython3",
   "version": "3.10.9"
  },
  "orig_nbformat": 4
 },
 "nbformat": 4,
 "nbformat_minor": 2
}
